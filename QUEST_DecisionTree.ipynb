{
 "cells": [
  {
   "cell_type": "code",
   "execution_count": 9,
   "metadata": {},
   "outputs": [
    {
     "ename": "ModuleNotFoundError",
     "evalue": "No module named 'pandas'",
     "output_type": "error",
     "traceback": [
      "\u001b[0;31m---------------------------------------------------------------------------\u001b[0m",
      "\u001b[0;31mModuleNotFoundError\u001b[0m                       Traceback (most recent call last)",
      "\u001b[0;32m<ipython-input-9-78ec3df34c81>\u001b[0m in \u001b[0;36m<module>\u001b[0;34m\u001b[0m\n\u001b[0;32m----> 1\u001b[0;31m \u001b[0;32mimport\u001b[0m \u001b[0mpandas\u001b[0m \u001b[0;32mas\u001b[0m \u001b[0mpd\u001b[0m\u001b[0;34m\u001b[0m\u001b[0;34m\u001b[0m\u001b[0m\n\u001b[0m\u001b[1;32m      2\u001b[0m \u001b[0;32mfrom\u001b[0m \u001b[0msklearn\u001b[0m\u001b[0;34m.\u001b[0m\u001b[0mtree\u001b[0m \u001b[0;32mimport\u001b[0m \u001b[0mDecisionTreeClassifier\u001b[0m\u001b[0;34m\u001b[0m\u001b[0;34m\u001b[0m\u001b[0m\n\u001b[1;32m      3\u001b[0m \u001b[0;32mfrom\u001b[0m \u001b[0msklearn\u001b[0m\u001b[0;34m.\u001b[0m\u001b[0mensemble\u001b[0m \u001b[0;32mimport\u001b[0m \u001b[0mRandomForestClassifier\u001b[0m\u001b[0;34m\u001b[0m\u001b[0;34m\u001b[0m\u001b[0m\n\u001b[1;32m      4\u001b[0m \u001b[0;32mfrom\u001b[0m \u001b[0msklearn\u001b[0m \u001b[0;32mimport\u001b[0m \u001b[0mpreprocessing\u001b[0m\u001b[0;34m\u001b[0m\u001b[0;34m\u001b[0m\u001b[0m\n\u001b[1;32m      5\u001b[0m \u001b[0;32mfrom\u001b[0m \u001b[0msklearn\u001b[0m \u001b[0;32mimport\u001b[0m \u001b[0mmetrics\u001b[0m\u001b[0;34m\u001b[0m\u001b[0;34m\u001b[0m\u001b[0m\n",
      "\u001b[0;31mModuleNotFoundError\u001b[0m: No module named 'pandas'"
     ]
    }
   ],
   "source": [
    "import pandas as pd\n",
    "from sklearn.tree import DecisionTreeClassifier\n",
    "from sklearn.ensemble import RandomForestClassifier\n",
    "from sklearn import preprocessing\n",
    "from sklearn import metrics\n",
    "from sklearn.tree import export_graphviz\n",
    "import numpy as np\n",
    "import seaborn as sns\n",
    "import matplotlib.pyplot as plt"
   ]
  },
  {
   "cell_type": "markdown",
   "metadata": {},
   "source": [
    "# Kaggle Titanic Dataset\n",
    "\n",
    "In this notebook we test the implementation of a simple Decision Tree (QUEST algorithm) on the Titanic Dataset from Kaggle.\n",
    "\n",
    "We will first run some data analysis and data visualization and then implement the model and analyze its results."
   ]
  },
  {
   "cell_type": "code",
   "execution_count": 3,
   "metadata": {},
   "outputs": [],
   "source": [
    "df_train = pd.read_csv('../data/train.csv')\n",
    "df_train.dropna(inplace=True)\n",
    "\n",
    "df_test = pd.read_csv('../data/test.csv')\n",
    "df_test.dropna(inplace=True)"
   ]
  },
  {
   "cell_type": "markdown",
   "metadata": {},
   "source": [
    "### Print columns types in preparation of our future steps"
   ]
  },
  {
   "cell_type": "code",
   "execution_count": 1,
   "metadata": {
    "scrolled": true
   },
   "outputs": [
    {
     "ename": "NameError",
     "evalue": "name 'df_train' is not defined",
     "output_type": "error",
     "traceback": [
      "\u001b[0;31m---------------------------------------------------------------------------\u001b[0m",
      "\u001b[0;31mNameError\u001b[0m                                 Traceback (most recent call last)",
      "\u001b[0;32m<ipython-input-1-5f5515677c3e>\u001b[0m in \u001b[0;36m<module>\u001b[0;34m\u001b[0m\n\u001b[0;32m----> 1\u001b[0;31m \u001b[0mdf_train\u001b[0m\u001b[0;34m.\u001b[0m\u001b[0mcolumns\u001b[0m\u001b[0;34m.\u001b[0m\u001b[0mdtypes\u001b[0m\u001b[0;34m\u001b[0m\u001b[0;34m\u001b[0m\u001b[0m\n\u001b[0m",
      "\u001b[0;31mNameError\u001b[0m: name 'df_train' is not defined"
     ]
    }
   ],
   "source": [
    "print(df_train.dtypes)"
   ]
  },
  {
   "cell_type": "markdown",
   "metadata": {},
   "source": [
    "### Find out more about the data structure"
   ]
  },
  {
   "cell_type": "code",
   "execution_count": 16,
   "metadata": {},
   "outputs": [
    {
     "data": {
      "text/html": [
       "<div>\n",
       "<style scoped>\n",
       "    .dataframe tbody tr th:only-of-type {\n",
       "        vertical-align: middle;\n",
       "    }\n",
       "\n",
       "    .dataframe tbody tr th {\n",
       "        vertical-align: top;\n",
       "    }\n",
       "\n",
       "    .dataframe thead th {\n",
       "        text-align: right;\n",
       "    }\n",
       "</style>\n",
       "<table border=\"1\" class=\"dataframe\">\n",
       "  <thead>\n",
       "    <tr style=\"text-align: right;\">\n",
       "      <th></th>\n",
       "      <th>PassengerId</th>\n",
       "      <th>Survived</th>\n",
       "      <th>Pclass</th>\n",
       "      <th>Name</th>\n",
       "      <th>Sex</th>\n",
       "      <th>Age</th>\n",
       "      <th>SibSp</th>\n",
       "      <th>Parch</th>\n",
       "      <th>Ticket</th>\n",
       "      <th>Fare</th>\n",
       "      <th>Cabin</th>\n",
       "      <th>Embarked</th>\n",
       "    </tr>\n",
       "  </thead>\n",
       "  <tbody>\n",
       "    <tr>\n",
       "      <th>0</th>\n",
       "      <td>1</td>\n",
       "      <td>0</td>\n",
       "      <td>3</td>\n",
       "      <td>Braund, Mr. Owen Harris</td>\n",
       "      <td>male</td>\n",
       "      <td>22.0</td>\n",
       "      <td>1</td>\n",
       "      <td>0</td>\n",
       "      <td>A/5 21171</td>\n",
       "      <td>7.2500</td>\n",
       "      <td>NaN</td>\n",
       "      <td>S</td>\n",
       "    </tr>\n",
       "    <tr>\n",
       "      <th>1</th>\n",
       "      <td>2</td>\n",
       "      <td>1</td>\n",
       "      <td>1</td>\n",
       "      <td>Cumings, Mrs. John Bradley (Florence Briggs Th...</td>\n",
       "      <td>female</td>\n",
       "      <td>38.0</td>\n",
       "      <td>1</td>\n",
       "      <td>0</td>\n",
       "      <td>PC 17599</td>\n",
       "      <td>71.2833</td>\n",
       "      <td>C85</td>\n",
       "      <td>C</td>\n",
       "    </tr>\n",
       "    <tr>\n",
       "      <th>2</th>\n",
       "      <td>3</td>\n",
       "      <td>1</td>\n",
       "      <td>3</td>\n",
       "      <td>Heikkinen, Miss. Laina</td>\n",
       "      <td>female</td>\n",
       "      <td>26.0</td>\n",
       "      <td>0</td>\n",
       "      <td>0</td>\n",
       "      <td>STON/O2. 3101282</td>\n",
       "      <td>7.9250</td>\n",
       "      <td>NaN</td>\n",
       "      <td>S</td>\n",
       "    </tr>\n",
       "    <tr>\n",
       "      <th>3</th>\n",
       "      <td>4</td>\n",
       "      <td>1</td>\n",
       "      <td>1</td>\n",
       "      <td>Futrelle, Mrs. Jacques Heath (Lily May Peel)</td>\n",
       "      <td>female</td>\n",
       "      <td>35.0</td>\n",
       "      <td>1</td>\n",
       "      <td>0</td>\n",
       "      <td>113803</td>\n",
       "      <td>53.1000</td>\n",
       "      <td>C123</td>\n",
       "      <td>S</td>\n",
       "    </tr>\n",
       "    <tr>\n",
       "      <th>4</th>\n",
       "      <td>5</td>\n",
       "      <td>0</td>\n",
       "      <td>3</td>\n",
       "      <td>Allen, Mr. William Henry</td>\n",
       "      <td>male</td>\n",
       "      <td>35.0</td>\n",
       "      <td>0</td>\n",
       "      <td>0</td>\n",
       "      <td>373450</td>\n",
       "      <td>8.0500</td>\n",
       "      <td>NaN</td>\n",
       "      <td>S</td>\n",
       "    </tr>\n",
       "  </tbody>\n",
       "</table>\n",
       "</div>"
      ],
      "text/plain": [
       "   PassengerId  Survived  Pclass  \\\n",
       "0            1         0       3   \n",
       "1            2         1       1   \n",
       "2            3         1       3   \n",
       "3            4         1       1   \n",
       "4            5         0       3   \n",
       "\n",
       "                                                Name     Sex   Age  SibSp  \\\n",
       "0                            Braund, Mr. Owen Harris    male  22.0      1   \n",
       "1  Cumings, Mrs. John Bradley (Florence Briggs Th...  female  38.0      1   \n",
       "2                             Heikkinen, Miss. Laina  female  26.0      0   \n",
       "3       Futrelle, Mrs. Jacques Heath (Lily May Peel)  female  35.0      1   \n",
       "4                           Allen, Mr. William Henry    male  35.0      0   \n",
       "\n",
       "   Parch            Ticket     Fare Cabin Embarked  \n",
       "0      0         A/5 21171   7.2500   NaN        S  \n",
       "1      0          PC 17599  71.2833   C85        C  \n",
       "2      0  STON/O2. 3101282   7.9250   NaN        S  \n",
       "3      0            113803  53.1000  C123        S  \n",
       "4      0            373450   8.0500   NaN        S  "
      ]
     },
     "execution_count": 16,
     "metadata": {},
     "output_type": "execute_result"
    }
   ],
   "source": [
    "df.head()"
   ]
  },
  {
   "cell_type": "code",
   "execution_count": 5,
   "metadata": {},
   "outputs": [
    {
     "data": {
      "text/html": [
       "<div>\n",
       "<style scoped>\n",
       "    .dataframe tbody tr th:only-of-type {\n",
       "        vertical-align: middle;\n",
       "    }\n",
       "\n",
       "    .dataframe tbody tr th {\n",
       "        vertical-align: top;\n",
       "    }\n",
       "\n",
       "    .dataframe thead th {\n",
       "        text-align: right;\n",
       "    }\n",
       "</style>\n",
       "<table border=\"1\" class=\"dataframe\">\n",
       "  <thead>\n",
       "    <tr style=\"text-align: right;\">\n",
       "      <th></th>\n",
       "      <th>PassengerId</th>\n",
       "      <th>Survived</th>\n",
       "      <th>Pclass</th>\n",
       "      <th>Age</th>\n",
       "      <th>SibSp</th>\n",
       "      <th>Parch</th>\n",
       "      <th>Fare</th>\n",
       "    </tr>\n",
       "  </thead>\n",
       "  <tbody>\n",
       "    <tr>\n",
       "      <th>count</th>\n",
       "      <td>891.000000</td>\n",
       "      <td>891.000000</td>\n",
       "      <td>891.000000</td>\n",
       "      <td>714.000000</td>\n",
       "      <td>891.000000</td>\n",
       "      <td>891.000000</td>\n",
       "      <td>891.000000</td>\n",
       "    </tr>\n",
       "    <tr>\n",
       "      <th>mean</th>\n",
       "      <td>446.000000</td>\n",
       "      <td>0.383838</td>\n",
       "      <td>2.308642</td>\n",
       "      <td>29.699118</td>\n",
       "      <td>0.523008</td>\n",
       "      <td>0.381594</td>\n",
       "      <td>32.204208</td>\n",
       "    </tr>\n",
       "    <tr>\n",
       "      <th>std</th>\n",
       "      <td>257.353842</td>\n",
       "      <td>0.486592</td>\n",
       "      <td>0.836071</td>\n",
       "      <td>14.526497</td>\n",
       "      <td>1.102743</td>\n",
       "      <td>0.806057</td>\n",
       "      <td>49.693429</td>\n",
       "    </tr>\n",
       "    <tr>\n",
       "      <th>min</th>\n",
       "      <td>1.000000</td>\n",
       "      <td>0.000000</td>\n",
       "      <td>1.000000</td>\n",
       "      <td>0.420000</td>\n",
       "      <td>0.000000</td>\n",
       "      <td>0.000000</td>\n",
       "      <td>0.000000</td>\n",
       "    </tr>\n",
       "    <tr>\n",
       "      <th>25%</th>\n",
       "      <td>223.500000</td>\n",
       "      <td>0.000000</td>\n",
       "      <td>2.000000</td>\n",
       "      <td>20.125000</td>\n",
       "      <td>0.000000</td>\n",
       "      <td>0.000000</td>\n",
       "      <td>7.910400</td>\n",
       "    </tr>\n",
       "    <tr>\n",
       "      <th>50%</th>\n",
       "      <td>446.000000</td>\n",
       "      <td>0.000000</td>\n",
       "      <td>3.000000</td>\n",
       "      <td>28.000000</td>\n",
       "      <td>0.000000</td>\n",
       "      <td>0.000000</td>\n",
       "      <td>14.454200</td>\n",
       "    </tr>\n",
       "    <tr>\n",
       "      <th>75%</th>\n",
       "      <td>668.500000</td>\n",
       "      <td>1.000000</td>\n",
       "      <td>3.000000</td>\n",
       "      <td>38.000000</td>\n",
       "      <td>1.000000</td>\n",
       "      <td>0.000000</td>\n",
       "      <td>31.000000</td>\n",
       "    </tr>\n",
       "    <tr>\n",
       "      <th>max</th>\n",
       "      <td>891.000000</td>\n",
       "      <td>1.000000</td>\n",
       "      <td>3.000000</td>\n",
       "      <td>80.000000</td>\n",
       "      <td>8.000000</td>\n",
       "      <td>6.000000</td>\n",
       "      <td>512.329200</td>\n",
       "    </tr>\n",
       "  </tbody>\n",
       "</table>\n",
       "</div>"
      ],
      "text/plain": [
       "       PassengerId    Survived      Pclass         Age       SibSp  \\\n",
       "count   891.000000  891.000000  891.000000  714.000000  891.000000   \n",
       "mean    446.000000    0.383838    2.308642   29.699118    0.523008   \n",
       "std     257.353842    0.486592    0.836071   14.526497    1.102743   \n",
       "min       1.000000    0.000000    1.000000    0.420000    0.000000   \n",
       "25%     223.500000    0.000000    2.000000   20.125000    0.000000   \n",
       "50%     446.000000    0.000000    3.000000   28.000000    0.000000   \n",
       "75%     668.500000    1.000000    3.000000   38.000000    1.000000   \n",
       "max     891.000000    1.000000    3.000000   80.000000    8.000000   \n",
       "\n",
       "            Parch        Fare  \n",
       "count  891.000000  891.000000  \n",
       "mean     0.381594   32.204208  \n",
       "std      0.806057   49.693429  \n",
       "min      0.000000    0.000000  \n",
       "25%      0.000000    7.910400  \n",
       "50%      0.000000   14.454200  \n",
       "75%      0.000000   31.000000  \n",
       "max      6.000000  512.329200  "
      ]
     },
     "execution_count": 5,
     "metadata": {},
     "output_type": "execute_result"
    }
   ],
   "source": [
    "df.describe()"
   ]
  },
  {
   "cell_type": "markdown",
   "metadata": {},
   "source": [
    "About 40% of the passengers survived. The mean age was 29 years with the youngest passenger not older than 6 months.\n",
    "\n",
    "The fare seems to range between rather extreme values. This could be a discriminant factor when trying to predict the survival of a passenger."
   ]
  },
  {
   "cell_type": "markdown",
   "metadata": {},
   "source": [
    "### Fare distribution among the population"
   ]
  },
  {
   "cell_type": "code",
   "execution_count": 9,
   "metadata": {},
   "outputs": [
    {
     "data": {
      "image/png": "iVBORw0KGgoAAAANSUhEUgAAAXoAAAEKCAYAAAAcgp5RAAAABHNCSVQICAgIfAhkiAAAAAlwSFlz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\n",
      "text/plain": [
       "<matplotlib.figure.Figure at 0x2ed2555e320>"
      ]
     },
     "metadata": {},
     "output_type": "display_data"
    }
   ],
   "source": [
    "sns.distplot(df['Fare'], kde=False, rug=False)\n",
    "plt.show()"
   ]
  },
  {
   "cell_type": "markdown",
   "metadata": {},
   "source": [
    "### Is Fare linked to a higher survival rate?"
   ]
  },
  {
   "cell_type": "code",
   "execution_count": 15,
   "metadata": {},
   "outputs": [
    {
     "data": {
      "image/png": "iVBORw0KGgoAAAANSUhEUgAAAYgAAAEKCAYAAAAIO8L1AAAABHNCSVQICAgIfAhkiAAAAAlwSFlz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\nsXZdUtpcAAAAAElFTkSuQmCC\n",
      "text/plain": [
       "<matplotlib.figure.Figure at 0x2ed26047940>"
      ]
     },
     "metadata": {},
     "output_type": "display_data"
    }
   ],
   "source": [
    "sns.boxplot(x=\"Survived\", y=\"Fare\", data=df)\n",
    "plt.show()"
   ]
  },
  {
   "cell_type": "markdown",
   "metadata": {},
   "source": [
<<<<<<< HEAD
    "The 'Embarked' variable is categorical, therefore we have to plot it differently than the previous variable 'Fare'. For this we use the swarmplot method from Seaborn."
=======
    "### Creating discrete variables out of categorical data\n",
    "\n",
    "If we want to be able to use variables such as 'Embarked' in our classifier we need to modify these in order to turn them into discrete variable. To do that we use the `LabelEncoder` which is part of the `sklearn` package."
   ]
  },
  {
   "cell_type": "code",
   "execution_count": null,
   "metadata": {},
   "outputs": [],
   "source": [
    "categorical_feats = ['Embarked', 'Sex']"
   ]
  },
  {
   "cell_type": "code",
   "execution_count": 7,
   "metadata": {},
   "outputs": [],
   "source": [
    "for feat in categorical_feats:\n",
    "    le = preprocessing.LabelEncoder()\n",
    "    le.fit(df_train[feat].unique())\n",
    "    df_train[feat]= le.transform(df_train[feat])\n",
    "    df_test[feat]= le.transform(df_test[feat])"
   ]
  },
  {
   "cell_type": "markdown",
   "metadata": {},
   "source": [
    "### Fitting a simple Decision Tree"
   ]
  },
  {
   "cell_type": "code",
   "execution_count": 8,
   "metadata": {},
   "outputs": [],
   "source": [
    "features = ['Fare', 'Embarked', 'Sex', 'Age']\n",
    "model = DecisionTreeClassifier()\n",
    "fit_model = model.fit(df_train[features], df_train['Survived'])\n",
    "y_pred = fit_model.predict(df_train[features])"
   ]
  },
  {
   "cell_type": "markdown",
   "metadata": {},
   "source": [
    "### Displaying its accuracy"
>>>>>>> 71dc16bed1d2c970e80ee16e17c0b009427e89fa
   ]
  },
  {
   "cell_type": "code",
<<<<<<< HEAD
   "execution_count": 18,
   "metadata": {},
   "outputs": [
    {
     "data": {
      "image/png": "iVBORw0KGgoAAAANSUhEUgAAAYUAAAEKCAYAAAD9xUlFAAAABHNCSVQICAgIfAhkiAAAAAlwSFlz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\noGajjQAAAABJRU5ErkJggg==\n",
      "text/plain": [
       "<matplotlib.figure.Figure at 0x2ed26080860>"
      ]
     },
     "metadata": {},
     "output_type": "display_data"
    }
   ],
   "source": [
    "sns.swarmplot(x='Embarked', y='Survived', data=df)\n",
    "plt.show()"
=======
   "execution_count": 9,
   "metadata": {},
   "outputs": [
    {
     "name": "stdout",
     "output_type": "stream",
     "text": [
      "Accuracy: 0.8579234972677595\n"
     ]
    }
   ],
   "source": [
    "# Model Accuracy, how often is the classifier correct?\n",
    "print(\"Accuracy:\", metrics.accuracy_score(df_train['Survived'], y_pred))"
>>>>>>> 71dc16bed1d2c970e80ee16e17c0b009427e89fa
   ]
  },
  {
   "cell_type": "markdown",
   "metadata": {},
   "source": [
<<<<<<< HEAD
    "It seems that the different values of the 'Embarked' variable are equally likely to lead to a survival. However, in order to make sure of this, we can use another type of plot that allows to have an estimation of the distribution of each value relative to the survival.\n",
    "\n",
    "This plot is the violin plot which consists in a kernel density estimation relative to the value of y."
=======
    "### Fitting a simple Random Forest"
   ]
  },
  {
   "cell_type": "code",
   "execution_count": 11,
   "metadata": {},
   "outputs": [],
   "source": [
    "features = ['Fare', 'Embarked', 'Sex', 'Age']\n",
    "model_RF = RandomForestClassifier()\n",
    "fit_model_RF = model_RF.fit(df_train[features], df_train['Survived'])\n",
    "y_pred_RF = fit_model_RF.predict(df_train[features])"
   ]
  },
  {
   "cell_type": "code",
   "execution_count": 13,
   "metadata": {},
   "outputs": [],
   "source": [
    "### Displaying its accuracy"
>>>>>>> 71dc16bed1d2c970e80ee16e17c0b009427e89fa
   ]
  },
  {
   "cell_type": "code",
<<<<<<< HEAD
   "execution_count": 38,
   "metadata": {},
   "outputs": [
    {
     "data": {
      "image/png": "iVBORw0KGgoAAAANSUhEUgAAAZQAAAEKCAYAAAA1qaOTAAAABHNCSVQICAgIfAhkiAAAAAlwSFlz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\nSnhCcc45lxJ/AVjb91Xf1ACUAAAAAElFTkSuQmCC\n",
      "text/plain": [
       "<matplotlib.figure.Figure at 0x2ed27acafd0>"
      ]
     },
     "metadata": {},
     "output_type": "display_data"
    }
   ],
   "source": [
    "sns.violinplot(y='Survived', x='Embarked', data=df)\n",
    "plt.show()"
=======
   "execution_count": 12,
   "metadata": {},
   "outputs": [
    {
     "name": "stdout",
     "output_type": "stream",
     "text": [
      "Accuracy: 0.819672131147541\n"
     ]
    }
   ],
   "source": [
    "# Model Accuracy, how often is the classifier correct?\n",
    "print(\"Accuracy:\", metrics.accuracy_score(df_train['Survived'], y_pred_RF))"
>>>>>>> 71dc16bed1d2c970e80ee16e17c0b009427e89fa
   ]
  }
 ],
 "metadata": {
  "kernelspec": {
   "display_name": "Python 3",
   "language": "python",
   "name": "python3"
  },
  "language_info": {
   "codemirror_mode": {
    "name": "ipython",
    "version": 3
   },
   "file_extension": ".py",
   "mimetype": "text/x-python",
   "name": "python",
   "nbconvert_exporter": "python",
   "pygments_lexer": "ipython3",
   "version": "3.6.7"
  }
 },
 "nbformat": 4,
 "nbformat_minor": 2
}
